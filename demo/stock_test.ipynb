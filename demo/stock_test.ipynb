{
 "cells": [
  {
   "cell_type": "code",
   "execution_count": 4,
   "metadata": {
    "collapsed": true,
    "scrolled": true
   },
   "outputs": [],
   "source": [
    "import pandas_datareader as pdr"
   ]
  },
  {
   "cell_type": "code",
   "execution_count": 5,
   "metadata": {
    "collapsed": true
   },
   "outputs": [],
   "source": [
    "import datetime"
   ]
  },
  {
   "cell_type": "code",
   "execution_count": 6,
   "metadata": {},
   "outputs": [],
   "source": [
    "t = pdr.get_data_yahoo('000333.SZ', start=datetime.datetime(2016,10,1), end=datetime.datetime.now())"
   ]
  },
  {
   "cell_type": "code",
   "execution_count": 7,
   "metadata": {},
   "outputs": [
    {
     "name": "stdout",
     "output_type": "stream",
     "text": [
      "                 Open       High        Low      Close  Adj Close    Volume\n",
      "Date                                                                       \n",
      "2016-10-10  27.180000  27.200001  26.520000  26.950001  26.186544  25921181\n",
      "2016-10-11  26.900000  27.139999  26.680000  27.000000  26.235128  22004789\n",
      "2016-10-12  26.980000  26.980000  26.760000  26.809999  26.050510  12125548\n",
      "2016-10-13  26.870001  26.870001  26.290001  26.299999  25.554956  22568949\n",
      "2016-10-14  26.320000  26.520000  26.250000  26.370001  25.622976  17300794\n",
      "2016-10-17  26.480000  26.530001  26.209999  26.270000  25.525808  14033212\n",
      "2016-10-18  26.100000  26.360001  26.049999  26.350000  25.603542  22703193\n",
      "2016-10-19  26.360001  26.389999  26.080000  26.139999  25.399490  15399856\n",
      "2016-10-20  26.139999  26.340000  25.990000  26.250000  25.506374  15570390\n",
      "2016-10-21  26.180000  26.530001  26.160000  26.379999  25.632690  23097359\n",
      "2016-10-24  26.530001  26.750000  26.389999  26.660000  25.904760  34696954\n",
      "2016-10-25  26.660000  26.879999  26.530001  26.799999  26.040792  29063381\n",
      "2016-10-26  26.799999  26.850000  26.590000  26.670000  25.914476  18388687\n",
      "2016-10-27  26.660000  26.700001  26.400000  26.680000  25.924192  12449359\n",
      "2016-10-28  26.639999  26.830000  26.490000  26.760000  26.001926  20745154\n",
      "2016-10-31  26.860001  27.190001  26.670000  27.150000  26.380878  41947232\n",
      "2016-11-01  27.200001  27.910000  27.170000  27.770000  26.983315  40892220\n",
      "2016-11-02  27.709999  27.709999  27.299999  27.480000  26.701530  23445241\n",
      "2016-11-03  27.299999  27.690001  27.299999  27.400000  26.623796  15732378\n",
      "2016-11-04  27.299999  27.559999  26.980000  26.990000  26.225410  20128149\n",
      "2016-11-07  27.020000  27.100000  26.760000  26.950001  26.186544  14285566\n",
      "2016-11-08  27.030001  27.600000  27.030001  27.400000  26.623796  18522343\n",
      "2016-11-09  27.490000  27.490000  26.900000  27.180000  26.410028  21096697\n",
      "2016-11-10  27.299999  27.740000  27.299999  27.570000  26.788980  22722922\n",
      "2016-11-11  27.549999  27.700001  27.290001  27.430000  26.652946  19100786\n",
      "2016-11-14  27.559999  27.629999  26.980000  27.100000  26.332294  32829345\n",
      "2016-11-15  27.049999  27.090000  26.870001  27.000000  26.235128  23755301\n",
      "2016-11-16  27.000000  27.070000  26.860001  26.940001  26.176828  11325381\n",
      "2016-11-17  27.000000  27.180000  26.850000  27.000000  26.235128  16811777\n",
      "2016-11-18  27.020000  27.219999  26.930000  27.129999  26.361444  14911388\n",
      "...               ...        ...        ...        ...        ...       ...\n",
      "2017-07-21  42.340000  42.459999  41.680000  41.900002  41.900002  29503966\n",
      "2017-07-24  41.910000  43.549999  41.599998  43.419998  43.419998  60522159\n",
      "2017-07-25  43.439999  43.650002  42.950001  43.419998  43.419998  32736712\n",
      "2017-07-26  43.599998  43.599998  41.930000  42.340000  42.340000  38917650\n",
      "2017-07-27  42.340000  42.340000  40.770000  41.200001  41.200001  41800681\n",
      "2017-07-28  41.230000  41.840000  41.070000  41.400002  41.400002  24093240\n",
      "2017-07-31  41.580002  41.580002  40.779999  41.200001  41.200001  33013694\n",
      "2017-08-01  41.209999  41.590000  40.849998  41.189999  41.189999  34303389\n",
      "2017-08-02  41.180000  41.180000  40.750000  40.799999  40.799999  25701585\n",
      "2017-08-03  40.610001  41.000000  39.900002  40.080002  40.080002  35773018\n",
      "2017-08-04  40.189999  40.389999  39.380001  39.450001  39.450001  30704481\n",
      "2017-08-07  39.349998  40.430000  38.669998  40.290001  40.290001  42068653\n",
      "2017-08-08  40.200001  40.480000  39.889999  39.980000  39.980000  21244041\n",
      "2017-08-09  40.130001  41.349998  39.509998  40.799999  40.799999  29355858\n",
      "2017-08-10  40.689999  41.180000  40.299999  40.849998  40.849998  22906180\n",
      "2017-08-11  40.299999  40.900002  39.599998  39.639999  39.639999  23561244\n",
      "2017-08-14  39.660000  40.450001  39.599998  40.119999  40.119999  21084953\n",
      "2017-08-15  40.119999  40.119999  39.639999  39.770000  39.770000  24780374\n",
      "2017-08-16  39.689999  39.689999  38.810001  39.049999  39.049999  31826165\n",
      "2017-08-17  39.060001  39.450001  38.849998  39.320000  39.320000  26038664\n",
      "2017-08-18  38.980000  39.439999  38.900002  39.130001  39.130001  17084395\n",
      "2017-08-21  39.119999  39.869999  38.950001  39.709999  39.709999  22168379\n",
      "2017-08-22  39.880001  40.730000  39.880001  40.450001  40.450001  29682321\n",
      "2017-08-23  40.599998  40.919998  40.220001  40.810001  40.810001  18080682\n",
      "2017-08-24  40.980000  41.549999  40.950001  41.520000  41.520000  33450867\n",
      "2017-08-25  41.830002  42.000000  41.470001  41.900002  41.900002  34759225\n",
      "2017-08-28  42.000000  42.590000  41.950001  42.270000  42.270000  35895607\n",
      "2017-08-29  42.380001  42.470001  41.500000  41.700001  41.700001  23764808\n",
      "2017-08-30  41.730000  42.090000  41.700001  41.980000  41.980000  14924066\n",
      "2017-08-31  41.970001  42.180000  40.380001  40.740002  40.740002  39744711\n",
      "\n",
      "[223 rows x 6 columns]\n"
     ]
    }
   ],
   "source": [
    "print(t)"
   ]
  },
  {
   "cell_type": "code",
   "execution_count": 8,
   "metadata": {},
   "outputs": [
    {
     "data": {
      "text/html": [
       "<div>\n",
       "<style>\n",
       "    .dataframe thead tr:only-child th {\n",
       "        text-align: right;\n",
       "    }\n",
       "\n",
       "    .dataframe thead th {\n",
       "        text-align: left;\n",
       "    }\n",
       "\n",
       "    .dataframe tbody tr th {\n",
       "        vertical-align: top;\n",
       "    }\n",
       "</style>\n",
       "<table border=\"1\" class=\"dataframe\">\n",
       "  <thead>\n",
       "    <tr style=\"text-align: right;\">\n",
       "      <th></th>\n",
       "      <th>Open</th>\n",
       "      <th>High</th>\n",
       "      <th>Low</th>\n",
       "      <th>Close</th>\n",
       "      <th>Adj Close</th>\n",
       "      <th>Volume</th>\n",
       "    </tr>\n",
       "    <tr>\n",
       "      <th>Date</th>\n",
       "      <th></th>\n",
       "      <th></th>\n",
       "      <th></th>\n",
       "      <th></th>\n",
       "      <th></th>\n",
       "      <th></th>\n",
       "    </tr>\n",
       "  </thead>\n",
       "  <tbody>\n",
       "    <tr>\n",
       "      <th>2016-10-10</th>\n",
       "      <td>27.180000</td>\n",
       "      <td>27.200001</td>\n",
       "      <td>26.520000</td>\n",
       "      <td>26.950001</td>\n",
       "      <td>26.186544</td>\n",
       "      <td>25921181</td>\n",
       "    </tr>\n",
       "    <tr>\n",
       "      <th>2016-10-11</th>\n",
       "      <td>26.900000</td>\n",
       "      <td>27.139999</td>\n",
       "      <td>26.680000</td>\n",
       "      <td>27.000000</td>\n",
       "      <td>26.235128</td>\n",
       "      <td>22004789</td>\n",
       "    </tr>\n",
       "    <tr>\n",
       "      <th>2016-10-12</th>\n",
       "      <td>26.980000</td>\n",
       "      <td>26.980000</td>\n",
       "      <td>26.760000</td>\n",
       "      <td>26.809999</td>\n",
       "      <td>26.050510</td>\n",
       "      <td>12125548</td>\n",
       "    </tr>\n",
       "    <tr>\n",
       "      <th>2016-10-13</th>\n",
       "      <td>26.870001</td>\n",
       "      <td>26.870001</td>\n",
       "      <td>26.290001</td>\n",
       "      <td>26.299999</td>\n",
       "      <td>25.554956</td>\n",
       "      <td>22568949</td>\n",
       "    </tr>\n",
       "    <tr>\n",
       "      <th>2016-10-14</th>\n",
       "      <td>26.320000</td>\n",
       "      <td>26.520000</td>\n",
       "      <td>26.250000</td>\n",
       "      <td>26.370001</td>\n",
       "      <td>25.622976</td>\n",
       "      <td>17300794</td>\n",
       "    </tr>\n",
       "  </tbody>\n",
       "</table>\n",
       "</div>"
      ],
      "text/plain": [
       "                 Open       High        Low      Close  Adj Close    Volume\n",
       "Date                                                                       \n",
       "2016-10-10  27.180000  27.200001  26.520000  26.950001  26.186544  25921181\n",
       "2016-10-11  26.900000  27.139999  26.680000  27.000000  26.235128  22004789\n",
       "2016-10-12  26.980000  26.980000  26.760000  26.809999  26.050510  12125548\n",
       "2016-10-13  26.870001  26.870001  26.290001  26.299999  25.554956  22568949\n",
       "2016-10-14  26.320000  26.520000  26.250000  26.370001  25.622976  17300794"
      ]
     },
     "execution_count": 8,
     "metadata": {},
     "output_type": "execute_result"
    }
   ],
   "source": [
    "t.head()"
   ]
  },
  {
   "cell_type": "code",
   "execution_count": 9,
   "metadata": {},
   "outputs": [
    {
     "data": {
      "text/html": [
       "<div>\n",
       "<style>\n",
       "    .dataframe thead tr:only-child th {\n",
       "        text-align: right;\n",
       "    }\n",
       "\n",
       "    .dataframe thead th {\n",
       "        text-align: left;\n",
       "    }\n",
       "\n",
       "    .dataframe tbody tr th {\n",
       "        vertical-align: top;\n",
       "    }\n",
       "</style>\n",
       "<table border=\"1\" class=\"dataframe\">\n",
       "  <thead>\n",
       "    <tr style=\"text-align: right;\">\n",
       "      <th></th>\n",
       "      <th>Open</th>\n",
       "      <th>High</th>\n",
       "      <th>Low</th>\n",
       "      <th>Close</th>\n",
       "      <th>Adj Close</th>\n",
       "      <th>Volume</th>\n",
       "    </tr>\n",
       "  </thead>\n",
       "  <tbody>\n",
       "    <tr>\n",
       "      <th>count</th>\n",
       "      <td>223.000000</td>\n",
       "      <td>223.000000</td>\n",
       "      <td>223.000000</td>\n",
       "      <td>223.000000</td>\n",
       "      <td>223.000000</td>\n",
       "      <td>2.230000e+02</td>\n",
       "    </tr>\n",
       "    <tr>\n",
       "      <th>mean</th>\n",
       "      <td>33.778072</td>\n",
       "      <td>34.256009</td>\n",
       "      <td>33.381794</td>\n",
       "      <td>33.859776</td>\n",
       "      <td>33.307585</td>\n",
       "      <td>3.514915e+07</td>\n",
       "    </tr>\n",
       "    <tr>\n",
       "      <th>std</th>\n",
       "      <td>5.387809</td>\n",
       "      <td>5.478179</td>\n",
       "      <td>5.252229</td>\n",
       "      <td>5.391958</td>\n",
       "      <td>5.727254</td>\n",
       "      <td>1.492507e+07</td>\n",
       "    </tr>\n",
       "    <tr>\n",
       "      <th>min</th>\n",
       "      <td>26.100000</td>\n",
       "      <td>26.340000</td>\n",
       "      <td>25.990000</td>\n",
       "      <td>26.139999</td>\n",
       "      <td>25.399490</td>\n",
       "      <td>1.132538e+07</td>\n",
       "    </tr>\n",
       "    <tr>\n",
       "      <th>25%</th>\n",
       "      <td>28.889999</td>\n",
       "      <td>29.325000</td>\n",
       "      <td>28.620000</td>\n",
       "      <td>28.970000</td>\n",
       "      <td>28.149320</td>\n",
       "      <td>2.376005e+07</td>\n",
       "    </tr>\n",
       "    <tr>\n",
       "      <th>50%</th>\n",
       "      <td>33.259998</td>\n",
       "      <td>33.770000</td>\n",
       "      <td>32.880001</td>\n",
       "      <td>33.279999</td>\n",
       "      <td>32.337223</td>\n",
       "      <td>3.419108e+07</td>\n",
       "    </tr>\n",
       "    <tr>\n",
       "      <th>75%</th>\n",
       "      <td>39.299999</td>\n",
       "      <td>40.074999</td>\n",
       "      <td>38.910000</td>\n",
       "      <td>39.385001</td>\n",
       "      <td>39.385001</td>\n",
       "      <td>4.288511e+07</td>\n",
       "    </tr>\n",
       "    <tr>\n",
       "      <th>max</th>\n",
       "      <td>44.400002</td>\n",
       "      <td>45.389999</td>\n",
       "      <td>44.000000</td>\n",
       "      <td>44.480000</td>\n",
       "      <td>44.480000</td>\n",
       "      <td>1.208730e+08</td>\n",
       "    </tr>\n",
       "  </tbody>\n",
       "</table>\n",
       "</div>"
      ],
      "text/plain": [
       "             Open        High         Low       Close   Adj Close  \\\n",
       "count  223.000000  223.000000  223.000000  223.000000  223.000000   \n",
       "mean    33.778072   34.256009   33.381794   33.859776   33.307585   \n",
       "std      5.387809    5.478179    5.252229    5.391958    5.727254   \n",
       "min     26.100000   26.340000   25.990000   26.139999   25.399490   \n",
       "25%     28.889999   29.325000   28.620000   28.970000   28.149320   \n",
       "50%     33.259998   33.770000   32.880001   33.279999   32.337223   \n",
       "75%     39.299999   40.074999   38.910000   39.385001   39.385001   \n",
       "max     44.400002   45.389999   44.000000   44.480000   44.480000   \n",
       "\n",
       "             Volume  \n",
       "count  2.230000e+02  \n",
       "mean   3.514915e+07  \n",
       "std    1.492507e+07  \n",
       "min    1.132538e+07  \n",
       "25%    2.376005e+07  \n",
       "50%    3.419108e+07  \n",
       "75%    4.288511e+07  \n",
       "max    1.208730e+08  "
      ]
     },
     "execution_count": 9,
     "metadata": {},
     "output_type": "execute_result"
    }
   ],
   "source": [
    "t.describe()"
   ]
  },
  {
   "cell_type": "code",
   "execution_count": 10,
   "metadata": {
    "collapsed": true
   },
   "outputs": [],
   "source": [
    "import pandas as pd"
   ]
  },
  {
   "cell_type": "code",
   "execution_count": 11,
   "metadata": {},
   "outputs": [
    {
     "data": {
      "text/plain": [
       "pandas.core.frame.DataFrame"
      ]
     },
     "execution_count": 11,
     "metadata": {},
     "output_type": "execute_result"
    }
   ],
   "source": [
    "type(t)"
   ]
  },
  {
   "cell_type": "code",
   "execution_count": 12,
   "metadata": {},
   "outputs": [
    {
     "data": {
      "text/plain": [
       "DatetimeIndex(['2016-10-10', '2016-10-11', '2016-10-12', '2016-10-13',\n",
       "               '2016-10-14', '2016-10-17', '2016-10-18', '2016-10-19',\n",
       "               '2016-10-20', '2016-10-21',\n",
       "               ...\n",
       "               '2017-08-18', '2017-08-21', '2017-08-22', '2017-08-23',\n",
       "               '2017-08-24', '2017-08-25', '2017-08-28', '2017-08-29',\n",
       "               '2017-08-30', '2017-08-31'],\n",
       "              dtype='datetime64[ns]', name=u'Date', length=223, freq=None)"
      ]
     },
     "execution_count": 12,
     "metadata": {},
     "output_type": "execute_result"
    }
   ],
   "source": [
    "t.index"
   ]
  },
  {
   "cell_type": "code",
   "execution_count": 13,
   "metadata": {
    "collapsed": true
   },
   "outputs": [],
   "source": [
    "monthly_t = t.resample('M').mean()"
   ]
  },
  {
   "cell_type": "code",
   "execution_count": 14,
   "metadata": {},
   "outputs": [
    {
     "name": "stdout",
     "output_type": "stream",
     "text": [
      "                 Open       High        Low      Close  Adj Close  \\\n",
      "Date                                                                \n",
      "2016-10-31  26.603750  26.753750  26.378750  26.596250  25.842815   \n",
      "2016-11-30  27.766818  28.240909  27.510000  27.920909  27.129949   \n",
      "2016-12-31  28.833182  29.236818  28.455909  28.761364  27.946595   \n",
      "2017-01-31  28.940556  29.372222  28.715556  29.062778  28.239471   \n",
      "2017-02-28  31.216111  31.676667  30.935000  31.306667  30.419793   \n",
      "2017-03-31  33.456521  33.926521  33.066087  33.540869  32.590704   \n",
      "2017-04-30  33.484444  33.920555  33.038889  33.533889  32.583921   \n",
      "2017-05-31  35.255000  35.847000  34.827000  35.502000  35.200952   \n",
      "2017-06-30  40.328182  41.077273  39.847727  40.601364  40.601364   \n",
      "2017-07-31  42.020476  42.574761  41.288571  41.983810  41.983810   \n",
      "2017-08-31  40.515652  40.958695  40.071739  40.502174  40.502174   \n",
      "\n",
      "                  Volume  \n",
      "Date                      \n",
      "2016-10-31  2.175100e+07  \n",
      "2016-11-30  3.494185e+07  \n",
      "2016-12-31  3.130504e+07  \n",
      "2017-01-31  2.739023e+07  \n",
      "2017-02-28  3.359905e+07  \n",
      "2017-03-31  3.599673e+07  \n",
      "2017-04-30  3.976492e+07  \n",
      "2017-05-31  4.367968e+07  \n",
      "2017-06-30  4.691321e+07  \n",
      "2017-07-31  4.032017e+07  \n",
      "2017-08-31  2.777842e+07  \n"
     ]
    }
   ],
   "source": [
    "print monthly_t\n"
   ]
  },
  {
   "cell_type": "code",
   "execution_count": 15,
   "metadata": {},
   "outputs": [],
   "source": [
    "import matplotlib.pyplot as plt\n"
   ]
  },
  {
   "cell_type": "code",
   "execution_count": 16,
   "metadata": {
    "collapsed": true
   },
   "outputs": [],
   "source": [
    "import matplotlib.pyplot as plt"
   ]
  },
  {
   "cell_type": "code",
   "execution_count": 17,
   "metadata": {},
   "outputs": [
    {
     "data": {
      "text/plain": [
       "<matplotlib.axes._subplots.AxesSubplot at 0x7f14af42a550>"
      ]
     },
     "execution_count": 17,
     "metadata": {},
     "output_type": "execute_result"
    }
   ],
   "source": [
    "t['Close'].plot(grid=True)"
   ]
  },
  {
   "cell_type": "code",
   "execution_count": 18,
   "metadata": {},
   "outputs": [
    {
     "data": {
      "image/png": "[encoded data removed]",
      "text/plain": [
       "<matplotlib.figure.Figure at 0x7f14b4deaf90>"
      ]
     },
     "metadata": {},
     "output_type": "display_data"
    }
   ],
   "source": [
    "plt.show()"
   ]
  },
  {
   "cell_type": "code",
   "execution_count": 19,
   "metadata": {
    "collapsed": true
   },
   "outputs": [],
   "source": [
    "import numpy as np"
   ]
  },
  {
   "cell_type": "code",
   "execution_count": 20,
   "metadata": {
    "collapsed": true
   },
   "outputs": [],
   "source": [
    "daily_close = t[['Adj Close']]"
   ]
  },
  {
   "cell_type": "code",
   "execution_count": 21,
   "metadata": {
    "collapsed": true
   },
   "outputs": [],
   "source": [
    "daily_pct_change = daily_close.pct_change()"
   ]
  },
  {
   "cell_type": "code",
   "execution_count": 22,
   "metadata": {
    "collapsed": true
   },
   "outputs": [],
   "source": [
    "daily_pct_change.fillna(0, inplace=True)"
   ]
  },
  {
   "cell_type": "code",
   "execution_count": 23,
   "metadata": {},
   "outputs": [
    {
     "name": "stdout",
     "output_type": "stream",
     "text": [
      "            Adj Close\n",
      "Date                 \n",
      "2016-10-10   0.000000\n",
      "2016-10-11   0.001855\n",
      "2016-10-12  -0.007037\n",
      "2016-10-13  -0.019023\n",
      "2016-10-14   0.002662\n",
      "2016-10-17  -0.003792\n",
      "2016-10-18   0.003045\n",
      "2016-10-19  -0.007970\n",
      "2016-10-20   0.004208\n",
      "2016-10-21   0.004952\n",
      "2016-10-24   0.010614\n",
      "2016-10-25   0.005251\n",
      "2016-10-26  -0.004851\n",
      "2016-10-27   0.000375\n",
      "2016-10-28   0.002999\n",
      "2016-10-31   0.014574\n",
      "2016-11-01   0.022836\n",
      "2016-11-02  -0.010443\n",
      "2016-11-03  -0.002911\n",
      "2016-11-04  -0.014964\n",
      "2016-11-07  -0.001482\n",
      "2016-11-08   0.016698\n",
      "2016-11-09  -0.008029\n",
      "2016-11-10   0.014349\n",
      "2016-11-11  -0.005078\n",
      "2016-11-14  -0.012031\n",
      "2016-11-15  -0.003690\n",
      "2016-11-16  -0.002222\n",
      "2016-11-17   0.002227\n",
      "2016-11-18   0.004815\n",
      "...               ...\n",
      "2017-07-21  -0.008284\n",
      "2017-07-24   0.036277\n",
      "2017-07-25   0.000000\n",
      "2017-07-26  -0.024873\n",
      "2017-07-27  -0.026925\n",
      "2017-07-28   0.004854\n",
      "2017-07-31  -0.004831\n",
      "2017-08-01  -0.000243\n",
      "2017-08-02  -0.009468\n",
      "2017-08-03  -0.017647\n",
      "2017-08-04  -0.015719\n",
      "2017-08-07   0.021293\n",
      "2017-08-08  -0.007694\n",
      "2017-08-09   0.020510\n",
      "2017-08-10   0.001225\n",
      "2017-08-11  -0.029621\n",
      "2017-08-14   0.012109\n",
      "2017-08-15  -0.008724\n",
      "2017-08-16  -0.018104\n",
      "2017-08-17   0.006914\n",
      "2017-08-18  -0.004832\n",
      "2017-08-21   0.014822\n",
      "2017-08-22   0.018635\n",
      "2017-08-23   0.008900\n",
      "2017-08-24   0.017398\n",
      "2017-08-25   0.009152\n",
      "2017-08-28   0.008831\n",
      "2017-08-29  -0.013485\n",
      "2017-08-30   0.006715\n",
      "2017-08-31  -0.029538\n",
      "\n",
      "[223 rows x 1 columns]\n"
     ]
    }
   ],
   "source": [
    "print(daily_pct_change)"
   ]
  },
  {
   "cell_type": "code",
   "execution_count": 24,
   "metadata": {
    "collapsed": true
   },
   "outputs": [],
   "source": [
    "daily_log_returns = np.log(daily_close.pct_change()+1)"
   ]
  },
  {
   "cell_type": "code",
   "execution_count": 25,
   "metadata": {},
   "outputs": [
    {
     "name": "stdout",
     "output_type": "stream",
     "text": [
      "            Adj Close\n",
      "Date                 \n",
      "2016-10-10        NaN\n",
      "2016-10-11   0.001854\n",
      "2016-10-12  -0.007062\n",
      "2016-10-13  -0.019206\n",
      "2016-10-14   0.002658\n",
      "2016-10-17  -0.003799\n",
      "2016-10-18   0.003041\n",
      "2016-10-19  -0.008002\n",
      "2016-10-20   0.004199\n",
      "2016-10-21   0.004940\n",
      "2016-10-24   0.010558\n",
      "2016-10-25   0.005237\n",
      "2016-10-26  -0.004863\n",
      "2016-10-27   0.000375\n",
      "2016-10-28   0.002994\n",
      "2016-10-31   0.014469\n",
      "2016-11-01   0.022579\n",
      "2016-11-02  -0.010498\n",
      "2016-11-03  -0.002915\n",
      "2016-11-04  -0.015077\n",
      "2016-11-07  -0.001483\n",
      "2016-11-08   0.016560\n",
      "2016-11-09  -0.008062\n",
      "2016-11-10   0.014247\n",
      "2016-11-11  -0.005091\n",
      "2016-11-14  -0.012104\n",
      "2016-11-15  -0.003697\n",
      "2016-11-16  -0.002225\n",
      "2016-11-17   0.002225\n",
      "2016-11-18   0.004803\n",
      "...               ...\n",
      "2017-07-21  -0.008318\n",
      "2017-07-24   0.035634\n",
      "2017-07-25   0.000000\n",
      "2017-07-26  -0.025188\n",
      "2017-07-27  -0.027294\n",
      "2017-07-28   0.004843\n",
      "2017-07-31  -0.004843\n",
      "2017-08-01  -0.000243\n",
      "2017-08-02  -0.009513\n",
      "2017-08-03  -0.017805\n",
      "2017-08-04  -0.015843\n",
      "2017-08-07   0.021069\n",
      "2017-08-08  -0.007724\n",
      "2017-08-09   0.020303\n",
      "2017-08-10   0.001225\n",
      "2017-08-11  -0.030068\n",
      "2017-08-14   0.012036\n",
      "2017-08-15  -0.008762\n",
      "2017-08-16  -0.018270\n",
      "2017-08-17   0.006890\n",
      "2017-08-18  -0.004844\n",
      "2017-08-21   0.014714\n",
      "2017-08-22   0.018464\n",
      "2017-08-23   0.008861\n",
      "2017-08-24   0.017248\n",
      "2017-08-25   0.009111\n",
      "2017-08-28   0.008792\n",
      "2017-08-29  -0.013576\n",
      "2017-08-30   0.006692\n",
      "2017-08-31  -0.029983\n",
      "\n",
      "[223 rows x 1 columns]\n"
     ]
    }
   ],
   "source": [
    "print(daily_log_returns)"
   ]
  },
  {
   "cell_type": "code",
   "execution_count": 26,
   "metadata": {},
   "outputs": [
    {
     "data": {
      "text/plain": [
       "array([[<matplotlib.axes._subplots.AxesSubplot object at 0x7f14af196510>]], dtype=object)"
      ]
     },
     "execution_count": 26,
     "metadata": {},
     "output_type": "execute_result"
    }
   ],
   "source": [
    "daily_pct_change.hist(bins=50)"
   ]
  },
  {
   "cell_type": "code",
   "execution_count": 27,
   "metadata": {},
   "outputs": [
    {
     "data": {
      "image/png": "[encoded data removed]",
      "text/plain": [
       "<matplotlib.figure.Figure at 0x7f14af0f9d50>"
      ]
     },
     "metadata": {},
     "output_type": "display_data"
    }
   ],
   "source": [
    "plt.show()"
   ]
  },
  {
   "cell_type": "code",
   "execution_count": 28,
   "metadata": {
    "collapsed": true
   },
   "outputs": [],
   "source": [
    "cum_daily_return = (1 + daily_pct_change).cumprod()"
   ]
  },
  {
   "cell_type": "code",
   "execution_count": 29,
   "metadata": {},
   "outputs": [
    {
     "name": "stdout",
     "output_type": "stream",
     "text": [
      "            Adj Close\n",
      "Date                 \n",
      "2016-10-10   1.000000\n",
      "2016-10-11   1.001855\n",
      "2016-10-12   0.994805\n",
      "2016-10-13   0.975881\n",
      "2016-10-14   0.978479\n",
      "2016-10-17   0.974768\n",
      "2016-10-18   0.977737\n",
      "2016-10-19   0.969944\n",
      "2016-10-20   0.974026\n",
      "2016-10-21   0.978850\n",
      "2016-10-24   0.989239\n",
      "2016-10-25   0.994434\n",
      "2016-10-26   0.989610\n",
      "2016-10-27   0.989981\n",
      "2016-10-28   0.992950\n",
      "2016-10-31   1.007421\n",
      "2016-11-01   1.030427\n",
      "2016-11-02   1.019666\n",
      "2016-11-03   1.016698\n",
      "2016-11-04   1.001484\n",
      "2016-11-07   1.000000\n",
      "2016-11-08   1.016698\n",
      "2016-11-09   1.008534\n",
      "2016-11-10   1.023006\n",
      "2016-11-11   1.017811\n",
      "2016-11-14   1.005566\n",
      "2016-11-15   1.001855\n",
      "2016-11-16   0.999629\n",
      "2016-11-17   1.001855\n",
      "2016-11-18   1.006679\n",
      "...               ...\n",
      "2017-07-21   1.600058\n",
      "2017-07-24   1.658103\n",
      "2017-07-25   1.658103\n",
      "2017-07-26   1.616861\n",
      "2017-07-27   1.573327\n",
      "2017-07-28   1.580965\n",
      "2017-07-31   1.573327\n",
      "2017-08-01   1.572945\n",
      "2017-08-02   1.558052\n",
      "2017-08-03   1.530557\n",
      "2017-08-04   1.506499\n",
      "2017-08-07   1.538576\n",
      "2017-08-08   1.526738\n",
      "2017-08-09   1.558052\n",
      "2017-08-10   1.559961\n",
      "2017-08-11   1.513755\n",
      "2017-08-14   1.532085\n",
      "2017-08-15   1.518719\n",
      "2017-08-16   1.491224\n",
      "2017-08-17   1.501535\n",
      "2017-08-18   1.494279\n",
      "2017-08-21   1.516428\n",
      "2017-08-22   1.544687\n",
      "2017-08-23   1.558434\n",
      "2017-08-24   1.585547\n",
      "2017-08-25   1.600058\n",
      "2017-08-28   1.614188\n",
      "2017-08-29   1.592421\n",
      "2017-08-30   1.603113\n",
      "2017-08-31   1.555761\n",
      "\n",
      "[223 rows x 1 columns]\n"
     ]
    }
   ],
   "source": [
    "print(cum_daily_return)"
   ]
  },
  {
   "cell_type": "code",
   "execution_count": 30,
   "metadata": {},
   "outputs": [
    {
     "data": {
      "text/plain": [
       "<matplotlib.axes._subplots.AxesSubplot at 0x7f14acf94950>"
      ]
     },
     "execution_count": 30,
     "metadata": {},
     "output_type": "execute_result"
    }
   ],
   "source": [
    "cum_daily_return.plot(figsize=(12,8))"
   ]
  },
  {
   "cell_type": "code",
   "execution_count": 31,
   "metadata": {},
   "outputs": [
    {
     "data": {
      "image/png": "[encoded data removed]",
      "text/plain": [
       "<matplotlib.figure.Figure at 0x7f14acee5250>"
      ]
     },
     "metadata": {},
     "output_type": "display_data"
    }
   ],
   "source": [
    "plt.show()"
   ]
  },
  {
   "cell_type": "code",
   "execution_count": 32,
   "metadata": {
    "collapsed": true
   },
   "outputs": [],
   "source": [
    "cum_monthly_return = cum_daily_return.resample(\"M\").mean()"
   ]
  },
  {
   "cell_type": "code",
   "execution_count": 33,
   "metadata": {},
   "outputs": [
    {
     "name": "stdout",
     "output_type": "stream",
     "text": [
      "            Adj Close\n",
      "Date                 \n",
      "2016-10-31   0.986874\n",
      "2016-11-30   1.036026\n",
      "2016-12-31   1.067212\n",
      "2017-01-31   1.078396\n",
      "2017-02-28   1.161657\n",
      "2017-03-31   1.244559\n",
      "2017-04-30   1.244300\n",
      "2017-05-31   1.344238\n",
      "2017-06-30   1.550467\n",
      "2017-07-31   1.603259\n",
      "2017-08-31   1.546679\n"
     ]
    }
   ],
   "source": [
    "print(cum_monthly_return)"
   ]
  },
  {
   "cell_type": "code",
   "execution_count": 34,
   "metadata": {},
   "outputs": [
    {
     "data": {
      "text/plain": [
       "<matplotlib.axes._subplots.AxesSubplot at 0x7f14ace11610>"
      ]
     },
     "execution_count": 34,
     "metadata": {},
     "output_type": "execute_result"
    }
   ],
   "source": [
    "cum_monthly_return.plot()"
   ]
  },
  {
   "cell_type": "code",
   "execution_count": 35,
   "metadata": {
    "collapsed": true
   },
   "outputs": [],
   "source": [
    "daily_volume = t[['Volume']]"
   ]
  },
  {
   "cell_type": "code",
   "execution_count": 36,
   "metadata": {},
   "outputs": [
    {
     "data": {
      "text/plain": [
       "<matplotlib.axes._subplots.AxesSubplot at 0x7f14acd06e10>"
      ]
     },
     "execution_count": 36,
     "metadata": {},
     "output_type": "execute_result"
    }
   ],
   "source": [
    "daily_volume.plot(kind='bar')"
   ]
  },
  {
   "cell_type": "code",
   "execution_count": 37,
   "metadata": {},
   "outputs": [
    {
     "name": "stdout",
     "output_type": "stream",
     "text": [
      "              Volume\n",
      "Date                \n",
      "2016-10-10  25921181\n",
      "2016-10-11  22004789\n",
      "2016-10-12  12125548\n",
      "2016-10-13  22568949\n",
      "2016-10-14  17300794\n",
      "2016-10-17  14033212\n",
      "2016-10-18  22703193\n",
      "2016-10-19  15399856\n",
      "2016-10-20  15570390\n",
      "2016-10-21  23097359\n",
      "2016-10-24  34696954\n",
      "2016-10-25  29063381\n",
      "2016-10-26  18388687\n",
      "2016-10-27  12449359\n",
      "2016-10-28  20745154\n",
      "2016-10-31  41947232\n",
      "2016-11-01  40892220\n",
      "2016-11-02  23445241\n",
      "2016-11-03  15732378\n",
      "2016-11-04  20128149\n",
      "2016-11-07  14285566\n",
      "2016-11-08  18522343\n",
      "2016-11-09  21096697\n",
      "2016-11-10  22722922\n",
      "2016-11-11  19100786\n",
      "2016-11-14  32829345\n",
      "2016-11-15  23755301\n",
      "2016-11-16  11325381\n",
      "2016-11-17  16811777\n",
      "2016-11-18  14911388\n",
      "...              ...\n",
      "2017-07-21  29503966\n",
      "2017-07-24  60522159\n",
      "2017-07-25  32736712\n",
      "2017-07-26  38917650\n",
      "2017-07-27  41800681\n",
      "2017-07-28  24093240\n",
      "2017-07-31  33013694\n",
      "2017-08-01  34303389\n",
      "2017-08-02  25701585\n",
      "2017-08-03  35773018\n",
      "2017-08-04  30704481\n",
      "2017-08-07  42068653\n",
      "2017-08-08  21244041\n",
      "2017-08-09  29355858\n",
      "2017-08-10  22906180\n",
      "2017-08-11  23561244\n",
      "2017-08-14  21084953\n",
      "2017-08-15  24780374\n",
      "2017-08-16  31826165\n",
      "2017-08-17  26038664\n",
      "2017-08-18  17084395\n",
      "2017-08-21  22168379\n",
      "2017-08-22  29682321\n",
      "2017-08-23  18080682\n",
      "2017-08-24  33450867\n",
      "2017-08-25  34759225\n",
      "2017-08-28  35895607\n",
      "2017-08-29  23764808\n",
      "2017-08-30  14924066\n",
      "2017-08-31  39744711\n",
      "\n",
      "[223 rows x 1 columns]\n"
     ]
    }
   ],
   "source": [
    "print(daily_volume)"
   ]
  },
  {
   "cell_type": "code",
   "execution_count": 38,
   "metadata": {},
   "outputs": [
    {
     "data": {
      "text/html": [
       "<div>\n",
       "<style>\n",
       "    .dataframe thead tr:only-child th {\n",
       "        text-align: right;\n",
       "    }\n",
       "\n",
       "    .dataframe thead th {\n",
       "        text-align: left;\n",
       "    }\n",
       "\n",
       "    .dataframe tbody tr th {\n",
       "        vertical-align: top;\n",
       "    }\n",
       "</style>\n",
       "<table border=\"1\" class=\"dataframe\">\n",
       "  <thead>\n",
       "    <tr style=\"text-align: right;\">\n",
       "      <th></th>\n",
       "      <th>Open</th>\n",
       "      <th>High</th>\n",
       "      <th>Low</th>\n",
       "      <th>Close</th>\n",
       "      <th>Adj Close</th>\n",
       "      <th>Volume</th>\n",
       "    </tr>\n",
       "    <tr>\n",
       "      <th>Date</th>\n",
       "      <th></th>\n",
       "      <th></th>\n",
       "      <th></th>\n",
       "      <th></th>\n",
       "      <th></th>\n",
       "      <th></th>\n",
       "    </tr>\n",
       "  </thead>\n",
       "  <tbody>\n",
       "    <tr>\n",
       "      <th>2016-10-10</th>\n",
       "      <td>27.180000</td>\n",
       "      <td>27.200001</td>\n",
       "      <td>26.520000</td>\n",
       "      <td>26.950001</td>\n",
       "      <td>26.186544</td>\n",
       "      <td>25921181</td>\n",
       "    </tr>\n",
       "    <tr>\n",
       "      <th>2016-10-11</th>\n",
       "      <td>26.900000</td>\n",
       "      <td>27.139999</td>\n",
       "      <td>26.680000</td>\n",
       "      <td>27.000000</td>\n",
       "      <td>26.235128</td>\n",
       "      <td>22004789</td>\n",
       "    </tr>\n",
       "    <tr>\n",
       "      <th>2016-10-12</th>\n",
       "      <td>26.980000</td>\n",
       "      <td>26.980000</td>\n",
       "      <td>26.760000</td>\n",
       "      <td>26.809999</td>\n",
       "      <td>26.050510</td>\n",
       "      <td>12125548</td>\n",
       "    </tr>\n",
       "    <tr>\n",
       "      <th>2016-10-13</th>\n",
       "      <td>26.870001</td>\n",
       "      <td>26.870001</td>\n",
       "      <td>26.290001</td>\n",
       "      <td>26.299999</td>\n",
       "      <td>25.554956</td>\n",
       "      <td>22568949</td>\n",
       "    </tr>\n",
       "    <tr>\n",
       "      <th>2016-10-14</th>\n",
       "      <td>26.320000</td>\n",
       "      <td>26.520000</td>\n",
       "      <td>26.250000</td>\n",
       "      <td>26.370001</td>\n",
       "      <td>25.622976</td>\n",
       "      <td>17300794</td>\n",
       "    </tr>\n",
       "  </tbody>\n",
       "</table>\n",
       "</div>"
      ],
      "text/plain": [
       "                 Open       High        Low      Close  Adj Close    Volume\n",
       "Date                                                                       \n",
       "2016-10-10  27.180000  27.200001  26.520000  26.950001  26.186544  25921181\n",
       "2016-10-11  26.900000  27.139999  26.680000  27.000000  26.235128  22004789\n",
       "2016-10-12  26.980000  26.980000  26.760000  26.809999  26.050510  12125548\n",
       "2016-10-13  26.870001  26.870001  26.290001  26.299999  25.554956  22568949\n",
       "2016-10-14  26.320000  26.520000  26.250000  26.370001  25.622976  17300794"
      ]
     },
     "execution_count": 38,
     "metadata": {},
     "output_type": "execute_result"
    }
   ],
   "source": [
    "t.head()"
   ]
  },
  {
   "cell_type": "code",
   "execution_count": 39,
   "metadata": {
    "collapsed": true
   },
   "outputs": [],
   "source": [
    "daily_volume = t[['Volume']]"
   ]
  },
  {
   "cell_type": "code",
   "execution_count": 40,
   "metadata": {},
   "outputs": [
    {
     "data": {
      "text/html": [
       "<div>\n",
       "<style>\n",
       "    .dataframe thead tr:only-child th {\n",
       "        text-align: right;\n",
       "    }\n",
       "\n",
       "    .dataframe thead th {\n",
       "        text-align: left;\n",
       "    }\n",
       "\n",
       "    .dataframe tbody tr th {\n",
       "        vertical-align: top;\n",
       "    }\n",
       "</style>\n",
       "<table border=\"1\" class=\"dataframe\">\n",
       "  <thead>\n",
       "    <tr style=\"text-align: right;\">\n",
       "      <th></th>\n",
       "      <th>Volume</th>\n",
       "    </tr>\n",
       "    <tr>\n",
       "      <th>Date</th>\n",
       "      <th></th>\n",
       "    </tr>\n",
       "  </thead>\n",
       "  <tbody>\n",
       "    <tr>\n",
       "      <th>2016-10-10</th>\n",
       "      <td>25921181</td>\n",
       "    </tr>\n",
       "    <tr>\n",
       "      <th>2016-10-11</th>\n",
       "      <td>22004789</td>\n",
       "    </tr>\n",
       "    <tr>\n",
       "      <th>2016-10-12</th>\n",
       "      <td>12125548</td>\n",
       "    </tr>\n",
       "    <tr>\n",
       "      <th>2016-10-13</th>\n",
       "      <td>22568949</td>\n",
       "    </tr>\n",
       "    <tr>\n",
       "      <th>2016-10-14</th>\n",
       "      <td>17300794</td>\n",
       "    </tr>\n",
       "  </tbody>\n",
       "</table>\n",
       "</div>"
      ],
      "text/plain": [
       "              Volume\n",
       "Date                \n",
       "2016-10-10  25921181\n",
       "2016-10-11  22004789\n",
       "2016-10-12  12125548\n",
       "2016-10-13  22568949\n",
       "2016-10-14  17300794"
      ]
     },
     "execution_count": 40,
     "metadata": {},
     "output_type": "execute_result"
    }
   ],
   "source": [
    "daily_volume.head()"
   ]
  },
  {
   "cell_type": "code",
   "execution_count": 41,
   "metadata": {},
   "outputs": [
    {
     "data": {
      "text/plain": [
       "<matplotlib.axes._subplots.AxesSubplot at 0x7f14ac19bed0>"
      ]
     },
     "execution_count": 41,
     "metadata": {},
     "output_type": "execute_result"
    }
   ],
   "source": [
    "daily_volume.plot(kind='bar')"
   ]
  },
  {
   "cell_type": "code",
   "execution_count": 42,
   "metadata": {},
   "outputs": [
    {
     "data": {
      "image/png": "[encoded data removed]",
      "text/plain": [
       "<matplotlib.figure.Figure at 0x7f14acdb92d0>"
      ]
     },
     "metadata": {},
     "output_type": "display_data"
    },
    {
     "data": {
      "image/png": "[encoded data removed]",
      "text/plain": [
       "<matplotlib.figure.Figure at 0x7f14acd068d0>"
      ]
     },
     "metadata": {},
     "output_type": "display_data"
    },
    {
     "data": {
      "image/png": "[encoded data removed]",
      "text/plain": [
       "<matplotlib.figure.Figure at 0x7f14ac1ad650>"
      ]
     },
     "metadata": {},
     "output_type": "display_data"
    }
   ],
   "source": [
    "plt.show()"
   ]
  },
  {
   "cell_type": "code",
   "execution_count": 43,
   "metadata": {
    "collapsed": true
   },
   "outputs": [],
   "source": [
    "monthly_volume = daily_volume.resample('W').mean()"
   ]
  },
  {
   "cell_type": "code",
   "execution_count": 44,
   "metadata": {},
   "outputs": [
    {
     "data": {
      "text/html": [
       "<div>\n",
       "<style>\n",
       "    .dataframe thead tr:only-child th {\n",
       "        text-align: right;\n",
       "    }\n",
       "\n",
       "    .dataframe thead th {\n",
       "        text-align: left;\n",
       "    }\n",
       "\n",
       "    .dataframe tbody tr th {\n",
       "        vertical-align: top;\n",
       "    }\n",
       "</style>\n",
       "<table border=\"1\" class=\"dataframe\">\n",
       "  <thead>\n",
       "    <tr style=\"text-align: right;\">\n",
       "      <th></th>\n",
       "      <th>Volume</th>\n",
       "    </tr>\n",
       "    <tr>\n",
       "      <th>Date</th>\n",
       "      <th></th>\n",
       "    </tr>\n",
       "  </thead>\n",
       "  <tbody>\n",
       "    <tr>\n",
       "      <th>2016-10-16</th>\n",
       "      <td>19984252.2</td>\n",
       "    </tr>\n",
       "    <tr>\n",
       "      <th>2016-10-23</th>\n",
       "      <td>18160802.0</td>\n",
       "    </tr>\n",
       "    <tr>\n",
       "      <th>2016-10-30</th>\n",
       "      <td>23068707.0</td>\n",
       "    </tr>\n",
       "    <tr>\n",
       "      <th>2016-11-06</th>\n",
       "      <td>28429044.0</td>\n",
       "    </tr>\n",
       "    <tr>\n",
       "      <th>2016-11-13</th>\n",
       "      <td>19145662.8</td>\n",
       "    </tr>\n",
       "  </tbody>\n",
       "</table>\n",
       "</div>"
      ],
      "text/plain": [
       "                Volume\n",
       "Date                  \n",
       "2016-10-16  19984252.2\n",
       "2016-10-23  18160802.0\n",
       "2016-10-30  23068707.0\n",
       "2016-11-06  28429044.0\n",
       "2016-11-13  19145662.8"
      ]
     },
     "execution_count": 44,
     "metadata": {},
     "output_type": "execute_result"
    }
   ],
   "source": [
    "monthly_volume.head()"
   ]
  },
  {
   "cell_type": "code",
   "execution_count": 45,
   "metadata": {},
   "outputs": [
    {
     "data": {
      "text/plain": [
       "<matplotlib.axes._subplots.AxesSubplot at 0x7f14ac0bb790>"
      ]
     },
     "execution_count": 45,
     "metadata": {},
     "output_type": "execute_result"
    }
   ],
   "source": [
    "monthly_volume.plot(kind='bar')"
   ]
  },
  {
   "cell_type": "code",
   "execution_count": 46,
   "metadata": {},
   "outputs": [
    {
     "data": {
      "image/png": "[encoded data removed]",
      "text/plain": [
       "<matplotlib.figure.Figure at 0x7f14ac256850>"
      ]
     },
     "metadata": {},
     "output_type": "display_data"
    }
   ],
   "source": [
    "plt.show()"
   ]
  },
  {
   "cell_type": "code",
   "execution_count": 47,
   "metadata": {
    "collapsed": true
   },
   "outputs": [],
   "source": [
    "monthly_volume = daily_volume.resample('BM').mean()"
   ]
  },
  {
   "cell_type": "code",
   "execution_count": 48,
   "metadata": {},
   "outputs": [
    {
     "data": {
      "text/plain": [
       "<matplotlib.axes._subplots.AxesSubplot at 0x7f14ac1bca50>"
      ]
     },
     "execution_count": 48,
     "metadata": {},
     "output_type": "execute_result"
    }
   ],
   "source": [
    "monthly_volume.plot(kind='bar')"
   ]
  },
  {
   "cell_type": "code",
   "execution_count": 49,
   "metadata": {},
   "outputs": [
    {
     "data": {
      "image/png": "[encoded data removed]",
      "text/plain": [
       "<matplotlib.figure.Figure at 0x7f14ab6e6e10>"
      ]
     },
     "metadata": {},
     "output_type": "display_data"
    }
   ],
   "source": [
    "plt.show()"
   ]
  },
  {
   "cell_type": "code",
   "execution_count": 50,
   "metadata": {},
   "outputs": [
    {
     "data": {
      "text/plain": [
       "array([[<matplotlib.axes._subplots.AxesSubplot object at 0x7f14ab730290>]], dtype=object)"
      ]
     },
     "execution_count": 50,
     "metadata": {},
     "output_type": "execute_result"
    }
   ],
   "source": [
    "monthly_volume.hist()"
   ]
  },
  {
   "cell_type": "code",
   "execution_count": 51,
   "metadata": {},
   "outputs": [
    {
     "data": {
      "image/png": "[encoded data removed]",
      "text/plain": [
       "<matplotlib.figure.Figure at 0x7f14ab46fc50>"
      ]
     },
     "metadata": {},
     "output_type": "display_data"
    }
   ],
   "source": [
    "plt.show()"
   ]
  },
  {
   "cell_type": "code",
   "execution_count": 52,
   "metadata": {},
   "outputs": [
    {
     "data": {
      "text/plain": [
       "array([[<matplotlib.axes._subplots.AxesSubplot object at 0x7f14ab3c9150>]], dtype=object)"
      ]
     },
     "execution_count": 52,
     "metadata": {},
     "output_type": "execute_result"
    }
   ],
   "source": [
    "monthly_volume.hist(bins=20, sharex=True, figsize=(12,8))"
   ]
  },
  {
   "cell_type": "code",
   "execution_count": 53,
   "metadata": {},
   "outputs": [
    {
     "data": {
      "image/png": "[encoded data removed]",
      "text/plain": [
       "<matplotlib.figure.Figure at 0x7f14ab3d3c90>"
      ]
     },
     "metadata": {},
     "output_type": "display_data"
    }
   ],
   "source": [
    "plt.show()"
   ]
  },
  {
   "cell_type": "code",
   "execution_count": 54,
   "metadata": {},
   "outputs": [
    {
     "data": {
      "text/plain": [
       "array([[<matplotlib.axes._subplots.AxesSubplot object at 0x7f14ab3de290>]], dtype=object)"
      ]
     },
     "execution_count": 54,
     "metadata": {},
     "output_type": "execute_result"
    }
   ],
   "source": [
    "daily_volume.hist(bins=20, sharex=True, figsize=(12,8))"
   ]
  },
  {
   "cell_type": "code",
   "execution_count": 55,
   "metadata": {},
   "outputs": [
    {
     "data": {
      "image/png": "[encoded data removed]",
      "text/plain": [
       "<matplotlib.figure.Figure at 0x7f14ab2bf750>"
      ]
     },
     "metadata": {},
     "output_type": "display_data"
    }
   ],
   "source": [
    "plt.show()"
   ]
  },
  {
   "cell_type": "code",
   "execution_count": 56,
   "metadata": {},
   "outputs": [
    {
     "data": {
      "text/html": [
       "<div>\n",
       "<style>\n",
       "    .dataframe thead tr:only-child th {\n",
       "        text-align: right;\n",
       "    }\n",
       "\n",
       "    .dataframe thead th {\n",
       "        text-align: left;\n",
       "    }\n",
       "\n",
       "    .dataframe tbody tr th {\n",
       "        vertical-align: top;\n",
       "    }\n",
       "</style>\n",
       "<table border=\"1\" class=\"dataframe\">\n",
       "  <thead>\n",
       "    <tr style=\"text-align: right;\">\n",
       "      <th></th>\n",
       "      <th>Volume</th>\n",
       "    </tr>\n",
       "    <tr>\n",
       "      <th>Date</th>\n",
       "      <th></th>\n",
       "    </tr>\n",
       "  </thead>\n",
       "  <tbody>\n",
       "    <tr>\n",
       "      <th>2016-10-10</th>\n",
       "      <td>25921181</td>\n",
       "    </tr>\n",
       "    <tr>\n",
       "      <th>2016-10-11</th>\n",
       "      <td>22004789</td>\n",
       "    </tr>\n",
       "    <tr>\n",
       "      <th>2016-10-12</th>\n",
       "      <td>12125548</td>\n",
       "    </tr>\n",
       "    <tr>\n",
       "      <th>2016-10-13</th>\n",
       "      <td>22568949</td>\n",
       "    </tr>\n",
       "    <tr>\n",
       "      <th>2016-10-14</th>\n",
       "      <td>17300794</td>\n",
       "    </tr>\n",
       "  </tbody>\n",
       "</table>\n",
       "</div>"
      ],
      "text/plain": [
       "              Volume\n",
       "Date                \n",
       "2016-10-10  25921181\n",
       "2016-10-11  22004789\n",
       "2016-10-12  12125548\n",
       "2016-10-13  22568949\n",
       "2016-10-14  17300794"
      ]
     },
     "execution_count": 56,
     "metadata": {},
     "output_type": "execute_result"
    }
   ],
   "source": [
    "daily_volume.head()"
   ]
  },
  {
   "cell_type": "code",
   "execution_count": 57,
   "metadata": {
    "collapsed": true
   },
   "outputs": [],
   "source": [
    "moving_avg_vol = daily_volume.rolling(window=10).mean()"
   ]
  },
  {
   "cell_type": "code",
   "execution_count": 58,
   "metadata": {},
   "outputs": [
    {
     "data": {
      "text/html": [
       "<div>\n",
       "<style>\n",
       "    .dataframe thead tr:only-child th {\n",
       "        text-align: right;\n",
       "    }\n",
       "\n",
       "    .dataframe thead th {\n",
       "        text-align: left;\n",
       "    }\n",
       "\n",
       "    .dataframe tbody tr th {\n",
       "        vertical-align: top;\n",
       "    }\n",
       "</style>\n",
       "<table border=\"1\" class=\"dataframe\">\n",
       "  <thead>\n",
       "    <tr style=\"text-align: right;\">\n",
       "      <th></th>\n",
       "      <th>Volume</th>\n",
       "    </tr>\n",
       "    <tr>\n",
       "      <th>Date</th>\n",
       "      <th></th>\n",
       "    </tr>\n",
       "  </thead>\n",
       "  <tbody>\n",
       "    <tr>\n",
       "      <th>2016-10-10</th>\n",
       "      <td>NaN</td>\n",
       "    </tr>\n",
       "    <tr>\n",
       "      <th>2016-10-11</th>\n",
       "      <td>NaN</td>\n",
       "    </tr>\n",
       "    <tr>\n",
       "      <th>2016-10-12</th>\n",
       "      <td>NaN</td>\n",
       "    </tr>\n",
       "    <tr>\n",
       "      <th>2016-10-13</th>\n",
       "      <td>NaN</td>\n",
       "    </tr>\n",
       "    <tr>\n",
       "      <th>2016-10-14</th>\n",
       "      <td>NaN</td>\n",
       "    </tr>\n",
       "  </tbody>\n",
       "</table>\n",
       "</div>"
      ],
      "text/plain": [
       "            Volume\n",
       "Date              \n",
       "2016-10-10     NaN\n",
       "2016-10-11     NaN\n",
       "2016-10-12     NaN\n",
       "2016-10-13     NaN\n",
       "2016-10-14     NaN"
      ]
     },
     "execution_count": 58,
     "metadata": {},
     "output_type": "execute_result"
    }
   ],
   "source": [
    "moving_avg_vol.head()"
   ]
  },
  {
   "cell_type": "code",
   "execution_count": 59,
   "metadata": {},
   "outputs": [
    {
     "name": "stdout",
     "output_type": "stream",
     "text": [
      "                Volume\n",
      "Date                  \n",
      "2016-10-10         NaN\n",
      "2016-10-11         NaN\n",
      "2016-10-12         NaN\n",
      "2016-10-13         NaN\n",
      "2016-10-14         NaN\n",
      "2016-10-17         NaN\n",
      "2016-10-18         NaN\n",
      "2016-10-19         NaN\n",
      "2016-10-20         NaN\n",
      "2016-10-21  19072527.1\n",
      "2016-10-24  19950104.4\n",
      "2016-10-25  20655963.6\n",
      "2016-10-26  21282277.5\n",
      "2016-10-27  20270318.5\n",
      "2016-10-28  20614754.5\n",
      "2016-10-31  23406156.5\n",
      "2016-11-01  25225059.2\n",
      "2016-11-02  26029597.7\n",
      "2016-11-03  26045796.5\n",
      "2016-11-04  25748875.5\n",
      "2016-11-07  23707736.7\n",
      "2016-11-08  22653632.9\n",
      "2016-11-09  22924433.9\n",
      "2016-11-10  23951790.2\n",
      "2016-11-11  23787353.4\n",
      "2016-11-14  22875564.7\n",
      "2016-11-15  21161872.8\n",
      "2016-11-16  19949886.8\n",
      "2016-11-17  20057826.7\n",
      "2016-11-18  19536150.6\n",
      "...                ...\n",
      "2017-07-21  38307526.5\n",
      "2017-07-24  41391826.9\n",
      "2017-07-25  37796967.2\n",
      "2017-07-26  37432523.0\n",
      "2017-07-27  38842915.3\n",
      "2017-07-28  38936053.5\n",
      "2017-07-31  37632546.3\n",
      "2017-08-01  37304732.9\n",
      "2017-08-02  36722973.6\n",
      "2017-08-03  35636609.4\n",
      "2017-08-04  35756660.9\n",
      "2017-08-07  33911310.3\n",
      "2017-08-08  32762043.2\n",
      "2017-08-09  31805864.0\n",
      "2017-08-10  29916413.9\n",
      "2017-08-11  29863214.3\n",
      "2017-08-14  28670340.2\n",
      "2017-08-15  27718038.7\n",
      "2017-08-16  28330496.7\n",
      "2017-08-17  27357061.3\n",
      "2017-08-18  25995052.7\n",
      "2017-08-21  24005025.3\n",
      "2017-08-22  24848853.3\n",
      "2017-08-23  23721335.7\n",
      "2017-08-24  24775804.4\n",
      "2017-08-25  25895602.5\n",
      "2017-08-28  27376667.9\n",
      "2017-08-29  27275111.3\n",
      "2017-08-30  25584901.4\n",
      "2017-08-31  26955506.1\n",
      "\n",
      "[223 rows x 1 columns]\n"
     ]
    }
   ],
   "source": [
    "print(moving_avg_vol)"
   ]
  },
  {
   "cell_type": "code",
   "execution_count": 60,
   "metadata": {},
   "outputs": [
    {
     "data": {
      "text/plain": [
       "<matplotlib.axes._subplots.AxesSubplot at 0x7f14abab4310>"
      ]
     },
     "execution_count": 60,
     "metadata": {},
     "output_type": "execute_result"
    }
   ],
   "source": [
    "moving_avg_vol.plot(figsize=(12,8))"
   ]
  },
  {
   "cell_type": "code",
   "execution_count": 61,
   "metadata": {},
   "outputs": [
    {
     "data": {
      "image/png": "[encoded data removed]",
      "text/plain": [
       "<matplotlib.figure.Figure at 0x7f14ab9f6d90>"
      ]
     },
     "metadata": {},
     "output_type": "display_data"
    }
   ],
   "source": [
    "plt.show()"
   ]
  },
  {
   "cell_type": "code",
   "execution_count": 62,
   "metadata": {
    "collapsed": true
   },
   "outputs": [],
   "source": [
    "daily_close_vol = t[['Adj Close', 'Volume']]"
   ]
  },
  {
   "cell_type": "code",
   "execution_count": 63,
   "metadata": {},
   "outputs": [
    {
     "data": {
      "text/html": [
       "<div>\n",
       "<style>\n",
       "    .dataframe thead tr:only-child th {\n",
       "        text-align: right;\n",
       "    }\n",
       "\n",
       "    .dataframe thead th {\n",
       "        text-align: left;\n",
       "    }\n",
       "\n",
       "    .dataframe tbody tr th {\n",
       "        vertical-align: top;\n",
       "    }\n",
       "</style>\n",
       "<table border=\"1\" class=\"dataframe\">\n",
       "  <thead>\n",
       "    <tr style=\"text-align: right;\">\n",
       "      <th></th>\n",
       "      <th>Adj Close</th>\n",
       "      <th>Volume</th>\n",
       "    </tr>\n",
       "    <tr>\n",
       "      <th>Date</th>\n",
       "      <th></th>\n",
       "      <th></th>\n",
       "    </tr>\n",
       "  </thead>\n",
       "  <tbody>\n",
       "    <tr>\n",
       "      <th>2016-10-10</th>\n",
       "      <td>26.186544</td>\n",
       "      <td>25921181</td>\n",
       "    </tr>\n",
       "    <tr>\n",
       "      <th>2016-10-11</th>\n",
       "      <td>26.235128</td>\n",
       "      <td>22004789</td>\n",
       "    </tr>\n",
       "    <tr>\n",
       "      <th>2016-10-12</th>\n",
       "      <td>26.050510</td>\n",
       "      <td>12125548</td>\n",
       "    </tr>\n",
       "    <tr>\n",
       "      <th>2016-10-13</th>\n",
       "      <td>25.554956</td>\n",
       "      <td>22568949</td>\n",
       "    </tr>\n",
       "    <tr>\n",
       "      <th>2016-10-14</th>\n",
       "      <td>25.622976</td>\n",
       "      <td>17300794</td>\n",
       "    </tr>\n",
       "  </tbody>\n",
       "</table>\n",
       "</div>"
      ],
      "text/plain": [
       "            Adj Close    Volume\n",
       "Date                           \n",
       "2016-10-10  26.186544  25921181\n",
       "2016-10-11  26.235128  22004789\n",
       "2016-10-12  26.050510  12125548\n",
       "2016-10-13  25.554956  22568949\n",
       "2016-10-14  25.622976  17300794"
      ]
     },
     "execution_count": 63,
     "metadata": {},
     "output_type": "execute_result"
    }
   ],
   "source": [
    "daily_close_vol.head()"
   ]
  },
  {
   "cell_type": "code",
   "execution_count": 64,
   "metadata": {
    "collapsed": true
   },
   "outputs": [],
   "source": [
    "min_periods = 75"
   ]
  },
  {
   "cell_type": "code",
   "execution_count": 65,
   "metadata": {
    "collapsed": true
   },
   "outputs": [],
   "source": [
    "vol = daily_pct_change.rolling(min_periods).std() * np.sqrt(min_periods) "
   ]
  },
  {
   "cell_type": "code",
   "execution_count": 66,
   "metadata": {},
   "outputs": [
    {
     "data": {
      "text/plain": [
       "<matplotlib.axes._subplots.AxesSubplot at 0x7f14abcbd150>"
      ]
     },
     "execution_count": 66,
     "metadata": {},
     "output_type": "execute_result"
    }
   ],
   "source": [
    "vol.plot(figsize=(10, 8))"
   ]
  },
  {
   "cell_type": "code",
   "execution_count": 67,
   "metadata": {
    "scrolled": true
   },
   "outputs": [
    {
     "data": {
      "image/png": "[encoded data removed]",
      "text/plain": [
       "<matplotlib.figure.Figure at 0x7f14ab1afb90>"
      ]
     },
     "metadata": {},
     "output_type": "display_data"
    }
   ],
   "source": [
    "plt.show()"
   ]
  },
  {
   "cell_type": "code",
   "execution_count": 68,
   "metadata": {
    "collapsed": true
   },
   "outputs": [],
   "source": [
    "t = pdr.get_data_yahoo('000333.SZ', start=datetime.datetime(2015,10,1), end=datetime.datetime.now())"
   ]
  },
  {
   "cell_type": "code",
   "execution_count": 69,
   "metadata": {
    "collapsed": true
   },
   "outputs": [],
   "source": [
    "short_window = 40\n",
    "long_window = 100"
   ]
  },
  {
   "cell_type": "code",
   "execution_count": 70,
   "metadata": {
    "collapsed": true
   },
   "outputs": [],
   "source": [
    "signals = pd.DataFrame(index=t.index)\n",
    "signals['signal'] = 0.0"
   ]
  },
  {
   "cell_type": "code",
   "execution_count": 71,
   "metadata": {
    "collapsed": true
   },
   "outputs": [],
   "source": [
    "signals['short_mavg'] = t['Close'].rolling(window=short_window, min_periods=1, center=False).mean()"
   ]
  },
  {
   "cell_type": "code",
   "execution_count": 72,
   "metadata": {
    "collapsed": true
   },
   "outputs": [],
   "source": [
    "signals['long_mavg'] = t['Close'].rolling(window=long_window, min_periods=1, center=False).mean()"
   ]
  },
  {
   "cell_type": "code",
   "execution_count": 73,
   "metadata": {
    "collapsed": true
   },
   "outputs": [],
   "source": [
    "signals['signal'][short_window:] = np.where(signals['short_mavg'][short_window:] \n",
    "                                            > signals['long_mavg'][short_window:], 1.0, 0.0)"
   ]
  },
  {
   "cell_type": "code",
   "execution_count": 74,
   "metadata": {},
   "outputs": [
    {
     "data": {
      "text/html": [
       "<div>\n",
       "<style>\n",
       "    .dataframe thead tr:only-child th {\n",
       "        text-align: right;\n",
       "    }\n",
       "\n",
       "    .dataframe thead th {\n",
       "        text-align: left;\n",
       "    }\n",
       "\n",
       "    .dataframe tbody tr th {\n",
       "        vertical-align: top;\n",
       "    }\n",
       "</style>\n",
       "<table border=\"1\" class=\"dataframe\">\n",
       "  <thead>\n",
       "    <tr style=\"text-align: right;\">\n",
       "      <th></th>\n",
       "      <th>signal</th>\n",
       "      <th>short_mavg</th>\n",
       "      <th>long_mavg</th>\n",
       "    </tr>\n",
       "    <tr>\n",
       "      <th>Date</th>\n",
       "      <th></th>\n",
       "      <th></th>\n",
       "      <th></th>\n",
       "    </tr>\n",
       "  </thead>\n",
       "  <tbody>\n",
       "    <tr>\n",
       "      <th>2015-10-08</th>\n",
       "      <td>0.0</td>\n",
       "      <td>18.073299</td>\n",
       "      <td>18.073299</td>\n",
       "    </tr>\n",
       "    <tr>\n",
       "      <th>2015-10-09</th>\n",
       "      <td>0.0</td>\n",
       "      <td>18.070000</td>\n",
       "      <td>18.070000</td>\n",
       "    </tr>\n",
       "    <tr>\n",
       "      <th>2015-10-12</th>\n",
       "      <td>0.0</td>\n",
       "      <td>18.333333</td>\n",
       "      <td>18.333333</td>\n",
       "    </tr>\n",
       "    <tr>\n",
       "      <th>2015-10-13</th>\n",
       "      <td>0.0</td>\n",
       "      <td>18.403325</td>\n",
       "      <td>18.403325</td>\n",
       "    </tr>\n",
       "    <tr>\n",
       "      <th>2015-10-14</th>\n",
       "      <td>0.0</td>\n",
       "      <td>18.318660</td>\n",
       "      <td>18.318660</td>\n",
       "    </tr>\n",
       "    <tr>\n",
       "      <th>2015-10-15</th>\n",
       "      <td>0.0</td>\n",
       "      <td>18.323334</td>\n",
       "      <td>18.323334</td>\n",
       "    </tr>\n",
       "    <tr>\n",
       "      <th>2015-10-16</th>\n",
       "      <td>0.0</td>\n",
       "      <td>18.340000</td>\n",
       "      <td>18.340000</td>\n",
       "    </tr>\n",
       "    <tr>\n",
       "      <th>2015-10-19</th>\n",
       "      <td>0.0</td>\n",
       "      <td>18.332500</td>\n",
       "      <td>18.332500</td>\n",
       "    </tr>\n",
       "    <tr>\n",
       "      <th>2015-10-20</th>\n",
       "      <td>0.0</td>\n",
       "      <td>18.332589</td>\n",
       "      <td>18.332589</td>\n",
       "    </tr>\n",
       "    <tr>\n",
       "      <th>2015-10-21</th>\n",
       "      <td>0.0</td>\n",
       "      <td>18.277330</td>\n",
       "      <td>18.277330</td>\n",
       "    </tr>\n",
       "    <tr>\n",
       "      <th>2015-10-22</th>\n",
       "      <td>0.0</td>\n",
       "      <td>18.249091</td>\n",
       "      <td>18.249091</td>\n",
       "    </tr>\n",
       "    <tr>\n",
       "      <th>2015-10-23</th>\n",
       "      <td>0.0</td>\n",
       "      <td>18.260559</td>\n",
       "      <td>18.260559</td>\n",
       "    </tr>\n",
       "    <tr>\n",
       "      <th>2015-10-26</th>\n",
       "      <td>0.0</td>\n",
       "      <td>18.281539</td>\n",
       "      <td>18.281539</td>\n",
       "    </tr>\n",
       "    <tr>\n",
       "      <th>2015-10-27</th>\n",
       "      <td>0.0</td>\n",
       "      <td>18.279522</td>\n",
       "      <td>18.279522</td>\n",
       "    </tr>\n",
       "    <tr>\n",
       "      <th>2015-10-28</th>\n",
       "      <td>0.0</td>\n",
       "      <td>18.251554</td>\n",
       "      <td>18.251554</td>\n",
       "    </tr>\n",
       "    <tr>\n",
       "      <th>2015-10-29</th>\n",
       "      <td>0.0</td>\n",
       "      <td>18.267500</td>\n",
       "      <td>18.267500</td>\n",
       "    </tr>\n",
       "    <tr>\n",
       "      <th>2015-10-30</th>\n",
       "      <td>0.0</td>\n",
       "      <td>18.291371</td>\n",
       "      <td>18.291371</td>\n",
       "    </tr>\n",
       "    <tr>\n",
       "      <th>2015-11-02</th>\n",
       "      <td>0.0</td>\n",
       "      <td>18.326295</td>\n",
       "      <td>18.326295</td>\n",
       "    </tr>\n",
       "    <tr>\n",
       "      <th>2015-11-03</th>\n",
       "      <td>0.0</td>\n",
       "      <td>18.350527</td>\n",
       "      <td>18.350527</td>\n",
       "    </tr>\n",
       "    <tr>\n",
       "      <th>2015-11-04</th>\n",
       "      <td>0.0</td>\n",
       "      <td>18.411335</td>\n",
       "      <td>18.411335</td>\n",
       "    </tr>\n",
       "    <tr>\n",
       "      <th>2015-11-05</th>\n",
       "      <td>0.0</td>\n",
       "      <td>18.488572</td>\n",
       "      <td>18.488572</td>\n",
       "    </tr>\n",
       "    <tr>\n",
       "      <th>2015-11-06</th>\n",
       "      <td>0.0</td>\n",
       "      <td>18.560909</td>\n",
       "      <td>18.560909</td>\n",
       "    </tr>\n",
       "    <tr>\n",
       "      <th>2015-11-09</th>\n",
       "      <td>0.0</td>\n",
       "      <td>18.632174</td>\n",
       "      <td>18.632174</td>\n",
       "    </tr>\n",
       "    <tr>\n",
       "      <th>2015-11-10</th>\n",
       "      <td>0.0</td>\n",
       "      <td>18.678888</td>\n",
       "      <td>18.678888</td>\n",
       "    </tr>\n",
       "    <tr>\n",
       "      <th>2015-11-11</th>\n",
       "      <td>0.0</td>\n",
       "      <td>18.716800</td>\n",
       "      <td>18.716800</td>\n",
       "    </tr>\n",
       "    <tr>\n",
       "      <th>2015-11-12</th>\n",
       "      <td>0.0</td>\n",
       "      <td>18.759231</td>\n",
       "      <td>18.759231</td>\n",
       "    </tr>\n",
       "    <tr>\n",
       "      <th>2015-11-13</th>\n",
       "      <td>0.0</td>\n",
       "      <td>18.780248</td>\n",
       "      <td>18.780248</td>\n",
       "    </tr>\n",
       "    <tr>\n",
       "      <th>2015-11-16</th>\n",
       "      <td>0.0</td>\n",
       "      <td>18.795240</td>\n",
       "      <td>18.795240</td>\n",
       "    </tr>\n",
       "    <tr>\n",
       "      <th>2015-11-17</th>\n",
       "      <td>0.0</td>\n",
       "      <td>18.814024</td>\n",
       "      <td>18.814024</td>\n",
       "    </tr>\n",
       "    <tr>\n",
       "      <th>2015-11-18</th>\n",
       "      <td>0.0</td>\n",
       "      <td>18.816890</td>\n",
       "      <td>18.816890</td>\n",
       "    </tr>\n",
       "    <tr>\n",
       "      <th>2015-11-19</th>\n",
       "      <td>0.0</td>\n",
       "      <td>18.822152</td>\n",
       "      <td>18.822152</td>\n",
       "    </tr>\n",
       "    <tr>\n",
       "      <th>2015-11-20</th>\n",
       "      <td>0.0</td>\n",
       "      <td>18.821044</td>\n",
       "      <td>18.821044</td>\n",
       "    </tr>\n",
       "    <tr>\n",
       "      <th>2015-11-23</th>\n",
       "      <td>0.0</td>\n",
       "      <td>18.818385</td>\n",
       "      <td>18.818385</td>\n",
       "    </tr>\n",
       "    <tr>\n",
       "      <th>2015-11-24</th>\n",
       "      <td>0.0</td>\n",
       "      <td>18.823727</td>\n",
       "      <td>18.823727</td>\n",
       "    </tr>\n",
       "    <tr>\n",
       "      <th>2015-11-25</th>\n",
       "      <td>0.0</td>\n",
       "      <td>18.824763</td>\n",
       "      <td>18.824763</td>\n",
       "    </tr>\n",
       "    <tr>\n",
       "      <th>2015-11-26</th>\n",
       "      <td>0.0</td>\n",
       "      <td>18.832039</td>\n",
       "      <td>18.832039</td>\n",
       "    </tr>\n",
       "    <tr>\n",
       "      <th>2015-11-27</th>\n",
       "      <td>0.0</td>\n",
       "      <td>18.811533</td>\n",
       "      <td>18.811533</td>\n",
       "    </tr>\n",
       "    <tr>\n",
       "      <th>2015-11-30</th>\n",
       "      <td>0.0</td>\n",
       "      <td>18.787195</td>\n",
       "      <td>18.787195</td>\n",
       "    </tr>\n",
       "    <tr>\n",
       "      <th>2015-12-01</th>\n",
       "      <td>0.0</td>\n",
       "      <td>18.781198</td>\n",
       "      <td>18.781198</td>\n",
       "    </tr>\n",
       "    <tr>\n",
       "      <th>2015-12-02</th>\n",
       "      <td>0.0</td>\n",
       "      <td>18.800000</td>\n",
       "      <td>18.800000</td>\n",
       "    </tr>\n",
       "    <tr>\n",
       "      <th>2015-12-03</th>\n",
       "      <td>1.0</td>\n",
       "      <td>18.833168</td>\n",
       "      <td>18.814634</td>\n",
       "    </tr>\n",
       "    <tr>\n",
       "      <th>2015-12-04</th>\n",
       "      <td>1.0</td>\n",
       "      <td>18.866333</td>\n",
       "      <td>18.828412</td>\n",
       "    </tr>\n",
       "    <tr>\n",
       "      <th>2015-12-07</th>\n",
       "      <td>1.0</td>\n",
       "      <td>18.883333</td>\n",
       "      <td>18.844961</td>\n",
       "    </tr>\n",
       "    <tr>\n",
       "      <th>2015-12-08</th>\n",
       "      <td>1.0</td>\n",
       "      <td>18.887668</td>\n",
       "      <td>18.843636</td>\n",
       "    </tr>\n",
       "    <tr>\n",
       "      <th>2015-12-09</th>\n",
       "      <td>1.0</td>\n",
       "      <td>18.913335</td>\n",
       "      <td>18.847260</td>\n",
       "    </tr>\n",
       "    <tr>\n",
       "      <th>2015-12-10</th>\n",
       "      <td>1.0</td>\n",
       "      <td>18.936000</td>\n",
       "      <td>18.856087</td>\n",
       "    </tr>\n",
       "    <tr>\n",
       "      <th>2015-12-11</th>\n",
       "      <td>1.0</td>\n",
       "      <td>18.964668</td>\n",
       "      <td>18.871632</td>\n",
       "    </tr>\n",
       "    <tr>\n",
       "      <th>2015-12-14</th>\n",
       "      <td>1.0</td>\n",
       "      <td>19.008500</td>\n",
       "      <td>18.895833</td>\n",
       "    </tr>\n",
       "    <tr>\n",
       "      <th>2015-12-15</th>\n",
       "      <td>1.0</td>\n",
       "      <td>19.051000</td>\n",
       "      <td>18.919047</td>\n",
       "    </tr>\n",
       "    <tr>\n",
       "      <th>2015-12-16</th>\n",
       "      <td>1.0</td>\n",
       "      <td>19.102833</td>\n",
       "      <td>18.937732</td>\n",
       "    </tr>\n",
       "  </tbody>\n",
       "</table>\n",
       "</div>"
      ],
      "text/plain": [
       "            signal  short_mavg  long_mavg\n",
       "Date                                     \n",
       "2015-10-08     0.0   18.073299  18.073299\n",
       "2015-10-09     0.0   18.070000  18.070000\n",
       "2015-10-12     0.0   18.333333  18.333333\n",
       "2015-10-13     0.0   18.403325  18.403325\n",
       "2015-10-14     0.0   18.318660  18.318660\n",
       "2015-10-15     0.0   18.323334  18.323334\n",
       "2015-10-16     0.0   18.340000  18.340000\n",
       "2015-10-19     0.0   18.332500  18.332500\n",
       "2015-10-20     0.0   18.332589  18.332589\n",
       "2015-10-21     0.0   18.277330  18.277330\n",
       "2015-10-22     0.0   18.249091  18.249091\n",
       "2015-10-23     0.0   18.260559  18.260559\n",
       "2015-10-26     0.0   18.281539  18.281539\n",
       "2015-10-27     0.0   18.279522  18.279522\n",
       "2015-10-28     0.0   18.251554  18.251554\n",
       "2015-10-29     0.0   18.267500  18.267500\n",
       "2015-10-30     0.0   18.291371  18.291371\n",
       "2015-11-02     0.0   18.326295  18.326295\n",
       "2015-11-03     0.0   18.350527  18.350527\n",
       "2015-11-04     0.0   18.411335  18.411335\n",
       "2015-11-05     0.0   18.488572  18.488572\n",
       "2015-11-06     0.0   18.560909  18.560909\n",
       "2015-11-09     0.0   18.632174  18.632174\n",
       "2015-11-10     0.0   18.678888  18.678888\n",
       "2015-11-11     0.0   18.716800  18.716800\n",
       "2015-11-12     0.0   18.759231  18.759231\n",
       "2015-11-13     0.0   18.780248  18.780248\n",
       "2015-11-16     0.0   18.795240  18.795240\n",
       "2015-11-17     0.0   18.814024  18.814024\n",
       "2015-11-18     0.0   18.816890  18.816890\n",
       "2015-11-19     0.0   18.822152  18.822152\n",
       "2015-11-20     0.0   18.821044  18.821044\n",
       "2015-11-23     0.0   18.818385  18.818385\n",
       "2015-11-24     0.0   18.823727  18.823727\n",
       "2015-11-25     0.0   18.824763  18.824763\n",
       "2015-11-26     0.0   18.832039  18.832039\n",
       "2015-11-27     0.0   18.811533  18.811533\n",
       "2015-11-30     0.0   18.787195  18.787195\n",
       "2015-12-01     0.0   18.781198  18.781198\n",
       "2015-12-02     0.0   18.800000  18.800000\n",
       "2015-12-03     1.0   18.833168  18.814634\n",
       "2015-12-04     1.0   18.866333  18.828412\n",
       "2015-12-07     1.0   18.883333  18.844961\n",
       "2015-12-08     1.0   18.887668  18.843636\n",
       "2015-12-09     1.0   18.913335  18.847260\n",
       "2015-12-10     1.0   18.936000  18.856087\n",
       "2015-12-11     1.0   18.964668  18.871632\n",
       "2015-12-14     1.0   19.008500  18.895833\n",
       "2015-12-15     1.0   19.051000  18.919047\n",
       "2015-12-16     1.0   19.102833  18.937732"
      ]
     },
     "execution_count": 74,
     "metadata": {},
     "output_type": "execute_result"
    }
   ],
   "source": [
    "signals.head(50)"
   ]
  },
  {
   "cell_type": "code",
   "execution_count": 75,
   "metadata": {
    "collapsed": true
   },
   "outputs": [],
   "source": [
    "signals['positions'] = signals['signal'].diff()"
   ]
  },
  {
   "cell_type": "code",
   "execution_count": 76,
   "metadata": {},
   "outputs": [
    {
     "name": "stdout",
     "output_type": "stream",
     "text": [
      "Date\n",
      "2015-10-08    NaN\n",
      "2015-10-09    0.0\n",
      "2015-10-12    0.0\n",
      "2015-10-13    0.0\n",
      "2015-10-14    0.0\n",
      "2015-10-15    0.0\n",
      "2015-10-16    0.0\n",
      "2015-10-19    0.0\n",
      "2015-10-20    0.0\n",
      "2015-10-21    0.0\n",
      "2015-10-22    0.0\n",
      "2015-10-23    0.0\n",
      "2015-10-26    0.0\n",
      "2015-10-27    0.0\n",
      "2015-10-28    0.0\n",
      "2015-10-29    0.0\n",
      "2015-10-30    0.0\n",
      "2015-11-02    0.0\n",
      "2015-11-03    0.0\n",
      "2015-11-04    0.0\n",
      "2015-11-05    0.0\n",
      "2015-11-06    0.0\n",
      "2015-11-09    0.0\n",
      "2015-11-10    0.0\n",
      "2015-11-11    0.0\n",
      "2015-11-12    0.0\n",
      "2015-11-13    0.0\n",
      "2015-11-16    0.0\n",
      "2015-11-17    0.0\n",
      "2015-11-18    0.0\n",
      "2015-11-19    0.0\n",
      "2015-11-20    0.0\n",
      "2015-11-23    0.0\n",
      "2015-11-24    0.0\n",
      "2015-11-25    0.0\n",
      "2015-11-26    0.0\n",
      "2015-11-27    0.0\n",
      "2015-11-30    0.0\n",
      "2015-12-01    0.0\n",
      "2015-12-02    0.0\n",
      "2015-12-03    1.0\n",
      "2015-12-04    0.0\n",
      "2015-12-07    0.0\n",
      "2015-12-08    0.0\n",
      "2015-12-09    0.0\n",
      "2015-12-10    0.0\n",
      "2015-12-11    0.0\n",
      "2015-12-14    0.0\n",
      "2015-12-15    0.0\n",
      "2015-12-16    0.0\n",
      "Name: positions, dtype: float64\n"
     ]
    }
   ],
   "source": [
    "print(signals['positions'][:50])"
   ]
  },
  {
   "cell_type": "code",
   "execution_count": 77,
   "metadata": {
    "collapsed": true
   },
   "outputs": [],
   "source": [
    "fig, ax1 = None, None"
   ]
  },
  {
   "cell_type": "code",
   "execution_count": 78,
   "metadata": {
    "collapsed": true
   },
   "outputs": [],
   "source": [
    "fig = plt.figure(figsize=(15,8))"
   ]
  },
  {
   "cell_type": "code",
   "execution_count": 79,
   "metadata": {
    "collapsed": true
   },
   "outputs": [],
   "source": [
    "ax1 = fig.add_subplot(111,  ylabel='Price in $')"
   ]
  },
  {
   "cell_type": "code",
   "execution_count": 80,
   "metadata": {},
   "outputs": [
    {
     "data": {
      "text/plain": [
       "<matplotlib.axes._subplots.AxesSubplot at 0x7f14ab0c7ed0>"
      ]
     },
     "execution_count": 80,
     "metadata": {},
     "output_type": "execute_result"
    }
   ],
   "source": [
    "t['Close'].plot(ax=ax1, color='r', lw=2.)"
   ]
  },
  {
   "cell_type": "code",
   "execution_count": 81,
   "metadata": {},
   "outputs": [
    {
     "data": {
      "text/plain": [
       "<matplotlib.axes._subplots.AxesSubplot at 0x7f14ab0c7ed0>"
      ]
     },
     "execution_count": 81,
     "metadata": {},
     "output_type": "execute_result"
    }
   ],
   "source": [
    "signals[['short_mavg', 'long_mavg']].plot(ax=ax1, lw=2.)"
   ]
  },
  {
   "cell_type": "code",
   "execution_count": 82,
   "metadata": {},
   "outputs": [
    {
     "data": {
      "text/plain": [
       "[<matplotlib.lines.Line2D at 0x7f14ab0e1250>]"
      ]
     },
     "execution_count": 82,
     "metadata": {},
     "output_type": "execute_result"
    }
   ],
   "source": [
    "ax1.plot(signals.loc[signals.positions == 1.0].index, \n",
    "         signals.short_mavg[signals.positions == 1.0],\n",
    "         '^', markersize=10, color='m')"
   ]
  },
  {
   "cell_type": "code",
   "execution_count": 83,
   "metadata": {},
   "outputs": [
    {
     "data": {
      "text/plain": [
       "[<matplotlib.lines.Line2D at 0x7f14aafd6f10>]"
      ]
     },
     "execution_count": 83,
     "metadata": {},
     "output_type": "execute_result"
    }
   ],
   "source": [
    "ax1.plot(signals.loc[signals.positions == -1.0].index, \n",
    "         signals.short_mavg[signals.positions == -1.0],\n",
    "         'v', markersize=10, color='k')"
   ]
  },
  {
   "cell_type": "code",
   "execution_count": 84,
   "metadata": {},
   "outputs": [
    {
     "data": {
      "image/png": "[encoded data removed]",
      "text/plain": [
       "<matplotlib.figure.Figure at 0x7f14ab0f9c50>"
      ]
     },
     "metadata": {},
     "output_type": "display_data"
    }
   ],
   "source": [
    "plt.show()"
   ]
  },
  {
   "cell_type": "code",
   "execution_count": 85,
   "metadata": {
    "scrolled": true
   },
   "outputs": [
    {
     "name": "stdout",
     "output_type": "stream",
     "text": [
      "Date\n",
      "2015-12-03    18.833168\n",
      "2016-04-11    19.440327\n",
      "Name: short_mavg, dtype: float64\n"
     ]
    }
   ],
   "source": [
    "print(signals.short_mavg[signals.positions == 1.0])"
   ]
  },
  {
   "cell_type": "code",
   "execution_count": 86,
   "metadata": {},
   "outputs": [
    {
     "name": "stdout",
     "output_type": "stream",
     "text": [
      "DatetimeIndex(['2015-12-03', '2016-04-11'], dtype='datetime64[ns]', name=u'Date', freq=None)\n"
     ]
    }
   ],
   "source": [
    "print(signals.loc[signals.positions == 1.0].index)"
   ]
  },
  {
   "cell_type": "code",
   "execution_count": null,
   "metadata": {
    "collapsed": true
   },
   "outputs": [],
   "source": []
  }
 ],
 "metadata": {
  "kernelspec": {
   "display_name": "Python 2",
   "language": "python",
   "name": "python2"
  },
  "language_info": {
   "codemirror_mode": {
    "name": "ipython",
    "version": 2
   },
   "file_extension": ".py",
   "mimetype": "text/x-python",
   "name": "python",
   "nbconvert_exporter": "python",
   "pygments_lexer": "ipython2",
   "version": "2.7.13"
  }
 },
 "nbformat": 4,
 "nbformat_minor": 2
}
